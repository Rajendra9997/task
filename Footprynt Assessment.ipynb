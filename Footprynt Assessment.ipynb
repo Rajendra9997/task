{
 "cells": [
  {
   "cell_type": "markdown",
   "id": "6487ab84",
   "metadata": {},
   "source": [
    "1.Create a python function that can return nth fibonacci number"
   ]
  },
  {
   "cell_type": "code",
   "execution_count": 1,
   "id": "03f9d81e",
   "metadata": {},
   "outputs": [
    {
     "name": "stdout",
     "output_type": "stream",
     "text": [
      "987\n"
     ]
    }
   ],
   "source": [
    "def Fibonacci(n):\n",
    "    if n<= 0:\n",
    "        print(\"Incorrect input\")\n",
    "        \n",
    "#First Fib numb is 0\n",
    "    elif n == 1:\n",
    "        return 0\n",
    "    \n",
    "#Second Fib numb is 1\n",
    "    elif n == 2:\n",
    "        return 1\n",
    "    \n",
    "    else:\n",
    "        return Fibonacci(n-1)+Fibonacci(n-2)\n",
    "    \n",
    "print(Fibonacci(17))"
   ]
  },
  {
   "cell_type": "markdown",
   "id": "22738e58",
   "metadata": {},
   "source": [
    "2.How do you join 2 tables using SQLAlchemy"
   ]
  },
  {
   "cell_type": "code",
   "execution_count": 2,
   "id": "17cbb28f",
   "metadata": {},
   "outputs": [
    {
     "name": "stdout",
     "output_type": "stream",
     "text": [
      "Requirement already satisfied: snowflake in c:\\users\\admin\\anaconda3\\lib\\site-packages (0.0.3)\n",
      "Note: you may need to restart the kernel to use updated packages.\n"
     ]
    }
   ],
   "source": [
    "pip install snowflake"
   ]
  },
  {
   "cell_type": "code",
   "execution_count": 7,
   "id": "75a0fa7e",
   "metadata": {},
   "outputs": [],
   "source": [
    "from sqlalchemy import create_engine\n",
    "from datetime import date\n",
    "from snowflake.sqlalchemy import URL\n",
    "from sqlalchemy import create_engine\n",
    "from sqlalchemy.ext.declarative import declarative_base\n",
    "from sqlalchemy import Column,Sequence, Integer, String, MetaData, Table\n",
    "from sqlalchemy.orm import sessionmaker,relationship\n",
    "from sqlalchemy.orm.exc import NoResultFound,MultipleResultsFound\n",
    "from sqlalchemy.dialects import postgresql\n",
    "from sqlalchemy.ext.compiler import compiles\n",
    "from sqlalchemy.sql.expression import ColumnClause\n",
    "from sqlalchemy.sql import compiler\n",
    "from sqlalchemy import create_engine\n",
    "from sqlalchemy import Column, Integer, String, ForeignKey\n",
    "from sqlalchemy.ext.declarative import declarative_base"
   ]
  },
  {
   "cell_type": "code",
   "execution_count": null,
   "id": "f4aaf226",
   "metadata": {},
   "outputs": [],
   "source": [
    "engine = create_engine(URL(\n",
    "        user='admin_pc',\n",
    "        password='mrkinghot',\n",
    "        account='user',\n",
    "        database='datadb',\n",
    "        schema='worker',\n",
    "        role='manager',\n",
    "        warehouse='jadhav',\n",
    "    )\n",
    ")\n",
    "connection = engine.connect()"
   ]
  },
  {
   "cell_type": "code",
   "execution_count": null,
   "id": "b88c0f4b",
   "metadata": {},
   "outputs": [],
   "source": [
    "import logging\n",
    "logging.basicConfig(\n",
    "filename='file/debug.log',\n",
    "level=logging.DEBUG)\n",
    "\n",
    "\n",
    "Base = declarative_base()\n",
    "\n",
    "class table_1(Base):\n",
    "    __tablename__ = 'table_1'\n",
    "    ID = Column(Integer)\n",
    "    FIRST_NAME = Column(String(80),primary_key = True)\n",
    "    LAST_NAME = Column(String(80))\n",
    "\n",
    "\n",
    "class table_2(Base):\n",
    "    __tablename__ = 'table_2'\n",
    "    ID_1 = Column(Integer)\n",
    "    FIRST_NAME_1 = Column(String(80),primary_key = True)\n",
    "    LAST_NAME_1 = Column(String(80))\n",
    "\n",
    "Session = sessionmaker(bind=connection)\n",
    "session = Session()\n"
   ]
  },
  {
   "cell_type": "code",
   "execution_count": null,
   "id": "d9f7c2bb",
   "metadata": {},
   "outputs": [],
   "source": [
    "query = session.query(table_1).join(table_2, table_1.ID==table_2.ID_1).filter(table_1.ID == 11)"
   ]
  },
  {
   "cell_type": "code",
   "execution_count": null,
   "id": "b8a1b064",
   "metadata": {},
   "outputs": [],
   "source": [
    "print(\"My Join Query: \",str(query))\n",
    "\n",
    "print(\"\\n----> Print Output\")\n",
    "\n",
    "for _a in query.all():\n",
    "    print (_a.ID, _a.FIRST_NAME, _a.LAST_NAME)\n",
    "\n",
    "\n",
    "if __name__ == '__main__':\n",
    "    try:\n",
    "        Base.metadata.create_all(engine)\n",
    "    exit();\n",
    "    finally:\n",
    "        connection.close()\n",
    "        engine.dispose()\n",
    "\n",
    "exit();"
   ]
  },
  {
   "cell_type": "markdown",
   "id": "325055cf",
   "metadata": {},
   "source": [
    "3.Create a responsive login page with HTML & CSS & JS"
   ]
  },
  {
   "cell_type": "markdown",
   "id": "ca914ad1",
   "metadata": {},
   "source": [
    "1)Add HTML:\n",
    "Add an image inside a container and add inputs (with a matching label) for each field. Wrap a <form> element around them to process the input.\n"
   ]
  },
  {
   "cell_type": "markdown",
   "id": "c6e138f1",
   "metadata": {},
   "source": [
    "1)Add CCC\n",
    "Step 1 : Adding HTML Add an image inside a container and add inputs with matching labels for each field. Wrap a “form” element around them to process the input. \n",
    "\n",
    "Step 2 : Adding CSS Add the required CSS to design the login page try to keep the design as simple as possible. "
   ]
  },
  {
   "cell_type": "code",
   "execution_count": null,
   "id": "7e81f9a8",
   "metadata": {},
   "outputs": [],
   "source": []
  }
 ],
 "metadata": {
  "kernelspec": {
   "display_name": "Python 3",
   "language": "python",
   "name": "python3"
  },
  "language_info": {
   "codemirror_mode": {
    "name": "ipython",
    "version": 3
   },
   "file_extension": ".py",
   "mimetype": "text/x-python",
   "name": "python",
   "nbconvert_exporter": "python",
   "pygments_lexer": "ipython3",
   "version": "3.7.6"
  }
 },
 "nbformat": 4,
 "nbformat_minor": 5
}
